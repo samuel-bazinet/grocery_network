{
 "cells": [
  {
   "cell_type": "code",
   "execution_count": 42,
   "metadata": {},
   "outputs": [],
   "source": [
    "import networkx as nx\n",
    "import pandas as pd\n",
    "from typing import List, Dict, Set"
   ]
  },
  {
   "cell_type": "code",
   "execution_count": 43,
   "metadata": {},
   "outputs": [],
   "source": [
    "with open('./Groceries_dataset.csv', 'r') as f:\n",
    "    customer_data = [[line[0], line[1], line[2]] for line in [line.strip().split(',') for line in f.readlines()]]\n",
    "    #customer_data = [[line[2], line[1]] for line in [line.strip().split(',') for line in f.readlines()]]\n",
    "#    customer_data = [[line[2], line[0]] for line in [line.strip().split(',') for line in f.readlines()]]\n",
    "customer_data.pop(0)\n",
    "pass"
   ]
  },
  {
   "cell_type": "code",
   "execution_count": 44,
   "metadata": {},
   "outputs": [],
   "source": [
    "customer_dict: Dict[str, Set[str]] = dict()\n",
    "for customer in customer_data:\n",
    "    if customer[0] in customer_dict:\n",
    "        customer_dict[customer[0]].add(customer[1]+customer[2])\n",
    "    else:\n",
    "        customer_dict[customer[0]] = {customer[1]+customer[2]}\n",
    "\n",
    "customer_list = [(cust, items) for cust, items in customer_dict.items()]"
   ]
  },
  {
   "cell_type": "code",
   "execution_count": 45,
   "metadata": {},
   "outputs": [],
   "source": [
    "class CustomerEdge:\n",
    "    custA: str\n",
    "    custB: str\n",
    "    weight: int\n",
    "\n",
    "    def __init__(self, custA, custB):\n",
    "        self.custA = custA\n",
    "        self.custB = custB\n",
    "        self.weight = 0"
   ]
  },
  {
   "cell_type": "code",
   "execution_count": 46,
   "metadata": {},
   "outputs": [],
   "source": [
    "customer_edges: List[CustomerEdge] = []\n",
    "for i in customer_list:\n",
    "    for j in reversed(customer_list):\n",
    "        if i == j:\n",
    "            break\n",
    "        customer_edge = CustomerEdge(i[0], j[0])\n",
    "        for item in list(j[1]):\n",
    "            if item in i[1]:\n",
    "                customer_edge.weight += 1\n",
    "        if customer_edge.weight > 1:\n",
    "            customer_edges.append(customer_edge)"
   ]
  },
  {
   "cell_type": "code",
   "execution_count": 47,
   "metadata": {},
   "outputs": [],
   "source": [
    "#with open('processed_item_grocery_dataset.csv', 'w') as f:\n",
    "with open('processed_cust_date_items_grocery_dataset.csv', 'w') as f:\n",
    "    f.write('source,dest,weight\\n')\n",
    "    f.writelines([f'{edge.custA},{edge.custB},{edge.weight}\\n' for edge in customer_edges])"
   ]
  }
 ],
 "metadata": {
  "kernelspec": {
   "display_name": "base",
   "language": "python",
   "name": "python3"
  },
  "language_info": {
   "codemirror_mode": {
    "name": "ipython",
    "version": 3
   },
   "file_extension": ".py",
   "mimetype": "text/x-python",
   "name": "python",
   "nbconvert_exporter": "python",
   "pygments_lexer": "ipython3",
   "version": "3.11.4"
  }
 },
 "nbformat": 4,
 "nbformat_minor": 2
}
